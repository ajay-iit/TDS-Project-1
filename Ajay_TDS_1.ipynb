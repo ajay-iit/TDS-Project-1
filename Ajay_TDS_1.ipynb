{
  "nbformat": 4,
  "nbformat_minor": 0,
  "metadata": {
    "colab": {
      "provenance": []
    },
    "kernelspec": {
      "name": "python3",
      "display_name": "Python 3"
    },
    "language_info": {
      "name": "python"
    }
  },
  "cells": [
    {
      "cell_type": "markdown",
      "source": [
        "Q1. Who are the top 5 users in Austin with the highest number of followers? List their login in order, comma-separated."
      ],
      "metadata": {
        "id": "MdATmBO2Sdu8"
      }
    },
    {
      "cell_type": "code",
      "source": [
        "import pandas as pd\n",
        "\n",
        "# Load the users dataset\n",
        "users_df = pd.read_csv('users.csv')  # Replace with the path to your 'users.csv' file\n",
        "\n",
        "# Filter for users with location in Austin and over 100 followers\n",
        "austin_users = users_df[(users_df['location'].str.contains('Austin', case=False)) & (users_df['followers'] > 100)]\n",
        "\n",
        "# Sort by followers in descending order and get the top 5 users\n",
        "top_users = austin_users.sort_values(by='followers', ascending=False).head(5)\n",
        "\n",
        "# Get their logins as a comma-separated list\n",
        "top_logins = ', '.join(top_users['login'].tolist())\n",
        "print(f\"Top 5 users in Austin by followers: {top_logins}\")\n"
      ],
      "metadata": {
        "colab": {
          "base_uri": "https://localhost:8080/"
        },
        "id": "WtzOU5MCSdiC",
        "outputId": "781a5258-83d8-42a2-b3d7-29c0fdea054b"
      },
      "execution_count": 6,
      "outputs": [
        {
          "output_type": "stream",
          "name": "stdout",
          "text": [
            "Top 5 users in Austin by followers: getify, benawad, steveklabnik, cloudflare, jbogard\n"
          ]
        }
      ]
    },
    {
      "cell_type": "markdown",
      "source": [
        "Q2. Who are the 5 earliest registered GitHub users in Austin? List their login in ascending order of created_at, comma-separated.\n",
        "Users"
      ],
      "metadata": {
        "id": "PmzFNlO0SdUs"
      }
    },
    {
      "cell_type": "code",
      "source": [
        "# Filter for users with location in Austin\n",
        "austin_users = users_df[users_df['location'].str.contains('Austin', case=False)]\n",
        "\n",
        "# Convert 'created_at' column to datetime format\n",
        "austin_users['created_at'] = pd.to_datetime(austin_users['created_at'])\n",
        "\n",
        "# Sort by 'created_at' in ascending order and get the top 5 earliest users\n",
        "earliest_users = austin_users.sort_values(by='created_at', ascending=True).head(5)\n",
        "\n",
        "# Get their logins as a comma-separated list\n",
        "earliest_logins = ', '.join(earliest_users['login'].tolist())\n",
        "print(f\"5 earliest registered GitHub users in Austin: {earliest_logins}\")\n"
      ],
      "metadata": {
        "colab": {
          "base_uri": "https://localhost:8080/"
        },
        "id": "UgjUgsQYSdLV",
        "outputId": "fc7b65e0-785e-4500-8a97-8eaaf1ab5250"
      },
      "execution_count": 7,
      "outputs": [
        {
          "output_type": "stream",
          "name": "stdout",
          "text": [
            "5 earliest registered GitHub users in Austin: jnewland, joshknowles, hassox, dan, damon\n"
          ]
        }
      ]
    },
    {
      "cell_type": "markdown",
      "source": [
        "Q3. What are the 3 most popular license among these users? Ignore missing licenses. List the license_name in order, comma-separated.\n",
        "Licenses"
      ],
      "metadata": {
        "id": "4BwsW-pISc_V"
      }
    },
    {
      "cell_type": "code",
      "source": [
        "repos_df = pd.read_csv('repositories.csv')\n",
        "\n",
        "# Filter out rows with missing licenses\n",
        "repos_with_licenses = repos_df[repos_df['license_name'].notna()]\n",
        "\n",
        "# Count occurrences of each license and get the top 3\n",
        "top_licenses = repos_with_licenses['license_name'].value_counts().head(3)\n",
        "\n",
        "# Get the license names as a comma-separated list\n",
        "top_licenses_list = ', '.join(top_licenses.index.tolist())\n",
        "print(f\"3 most popular licenses: {top_licenses_list}\")\n"
      ],
      "metadata": {
        "colab": {
          "base_uri": "https://localhost:8080/"
        },
        "id": "q9vTDQNnSc1b",
        "outputId": "132ed833-eddc-4d86-e381-46c74a865235"
      },
      "execution_count": 8,
      "outputs": [
        {
          "output_type": "stream",
          "name": "stdout",
          "text": [
            "3 most popular licenses: mit, apache-2.0, other\n"
          ]
        }
      ]
    },
    {
      "cell_type": "markdown",
      "source": [
        "Q4. Which company do the majority of these developers work at?\n",
        "Company (cleaned up as explained above)"
      ],
      "metadata": {
        "id": "J9c3vvwsScNM"
      }
    },
    {
      "cell_type": "code",
      "source": [
        "users_df['company'] = users_df['company'].str.strip().str.lstrip('@').str.upper()\n",
        "\n",
        "# Filter out any missing values in 'company'\n",
        "users_with_company = users_df[users_df['company'].notna()]\n",
        "\n",
        "# Find the most common company among these users\n",
        "top_company = users_with_company['company'].value_counts().idxmax()\n",
        "\n",
        "print(f\"The company with the majority of these developers is: {top_company}\")\n"
      ],
      "metadata": {
        "colab": {
          "base_uri": "https://localhost:8080/"
        },
        "id": "UjgS2YTwSb_s",
        "outputId": "923662a4-c788-4a48-e6d9-ad2e03b679fd"
      },
      "execution_count": 9,
      "outputs": [
        {
          "output_type": "stream",
          "name": "stdout",
          "text": [
            "The company with the majority of these developers is: GOOGLE\n"
          ]
        }
      ]
    },
    {
      "cell_type": "markdown",
      "source": [
        "Q5. Which programming language is most popular among these users?\n",
        "Language"
      ],
      "metadata": {
        "id": "GJ3DP0epSbya"
      }
    },
    {
      "cell_type": "code",
      "source": [
        "repos_with_language = repos_df[repos_df['language'].notna() & (repos_df['language'] != '')]\n",
        "\n",
        "# Find the most common programming language\n",
        "top_language = repos_with_language['language'].value_counts().idxmax()\n",
        "\n",
        "print(f\"The most popular programming language among these users is: {top_language}\")\n"
      ],
      "metadata": {
        "colab": {
          "base_uri": "https://localhost:8080/"
        },
        "id": "g2SGBbklSbdl",
        "outputId": "a4ba4986-0e20-4f46-aa3c-e8a7e37fcc75"
      },
      "execution_count": 10,
      "outputs": [
        {
          "output_type": "stream",
          "name": "stdout",
          "text": [
            "The most popular programming language among these users is: JavaScript\n"
          ]
        }
      ]
    },
    {
      "cell_type": "markdown",
      "source": [
        "Q6. Which programming language is the second most popular among users who joined after 2020?\n",
        "Language"
      ],
      "metadata": {
        "id": "mAEICvVRSVrb"
      }
    },
    {
      "cell_type": "code",
      "execution_count": 11,
      "metadata": {
        "colab": {
          "base_uri": "https://localhost:8080/"
        },
        "id": "auuEzkCqzFwS",
        "outputId": "44c643ba-39a6-4b7a-e2d4-3ad53416c6f1"
      },
      "outputs": [
        {
          "output_type": "stream",
          "name": "stdout",
          "text": [
            "The second most popular language is: HTML\n"
          ]
        }
      ],
      "source": [
        "import pandas as pd\n",
        "\n",
        "# Load the CSV files\n",
        "users_df = pd.read_csv(\"users.csv\")\n",
        "repositories_df = pd.read_csv(\"repositories.csv\")\n",
        "\n",
        "# Step 1: Filter users who joined after 2020\n",
        "users_after_2020 = users_df[users_df['created_at'] > '2020-01-01']\n",
        "\n",
        "# Step 2: Filter repositories for these users\n",
        "# Select usernames of users who joined after 2020\n",
        "user_logins_after_2020 = set(users_after_2020['login'])\n",
        "\n",
        "# Filter repositories based on these usernames\n",
        "filtered_repos = repositories_df[repositories_df['login'].isin(user_logins_after_2020)]\n",
        "\n",
        "# Step 3: Count occurrences of each language\n",
        "language_counts = filtered_repos['language'].value_counts()\n",
        "\n",
        "# Step 4: Get the second most popular language\n",
        "if len(language_counts) > 1:\n",
        "    second_most_popular_language = language_counts.index[1]\n",
        "    print(\"The second most popular language is:\", second_most_popular_language)\n",
        "else:\n",
        "    print(\"Not enough languages to determine the second most popular.\")\n"
      ]
    },
    {
      "cell_type": "markdown",
      "source": [
        "Q7. Which language has the highest average number of stars per repository?\n",
        "Language"
      ],
      "metadata": {
        "id": "hRRYiJpaSToL"
      }
    },
    {
      "cell_type": "code",
      "source": [
        "repositories_df = repositories_df.dropna(subset=['language', 'stargazers_count'])\n",
        "\n",
        "# Group by language and calculate the average number of stars for each language\n",
        "language_star_averages = repositories_df.groupby('language')['stargazers_count'].mean()\n",
        "\n",
        "# Find the language with the highest average star count\n",
        "top_language = language_star_averages.idxmax()\n",
        "top_average_stars = language_star_averages.max()\n",
        "\n",
        "print(f\"The language with the highest average stars per repository is: {top_language} with an average of {top_average_stars:.2f} stars.\")"
      ],
      "metadata": {
        "colab": {
          "base_uri": "https://localhost:8080/"
        },
        "id": "bc1qAYA8zgum",
        "outputId": "23c57bf8-a419-422f-af7a-f29562de89b4"
      },
      "execution_count": 12,
      "outputs": [
        {
          "output_type": "stream",
          "name": "stdout",
          "text": [
            "The language with the highest average stars per repository is: Fennel with an average of 2443.00 stars.\n"
          ]
        }
      ]
    },
    {
      "cell_type": "markdown",
      "source": [
        "Q8. Let's define leader_strength as followers / (1 + following). Who are the top 5 in terms of leader_strength? List their login in order, comma-separated.\n",
        "User login"
      ],
      "metadata": {
        "id": "FExgNasZSMF2"
      }
    },
    {
      "cell_type": "code",
      "source": [
        "users_df['leader_strength'] = users_df['followers'] / (1 + users_df['following'])\n",
        "\n",
        "# Sort by leader_strength in descending order and select the top 5 users\n",
        "top_5_users = users_df.nlargest(5, 'leader_strength')\n",
        "\n",
        "# Extract the login names of the top 5 users\n",
        "top_5_logins = top_5_users['login'].tolist()\n",
        "\n",
        "# Output the result as comma-separated values\n",
        "print(\"Top 5 users by leader_strength:\", \", \".join(top_5_logins))"
      ],
      "metadata": {
        "colab": {
          "base_uri": "https://localhost:8080/"
        },
        "id": "4CiBgMJKzgsM",
        "outputId": "fa889cf0-3702-4d99-d22c-ada91bb720a7"
      },
      "execution_count": 13,
      "outputs": [
        {
          "output_type": "stream",
          "name": "stdout",
          "text": [
            "Top 5 users by leader_strength: getify, cloudflare, benawad, oracle, ContinuumIO\n"
          ]
        }
      ]
    },
    {
      "cell_type": "markdown",
      "source": [
        "Q9. What is the correlation between the number of followers and the number of public repositories among users in Austin?\n",
        "Correlation between followers and repos (to 3 decimal places, e.g. 0.123 or -0.123)"
      ],
      "metadata": {
        "id": "5p-DCgX0SHo-"
      }
    },
    {
      "cell_type": "code",
      "source": [
        "users_df = pd.read_csv(\"users.csv\")\n",
        "\n",
        "# Filter users based in Austin\n",
        "austin_users = users_df[users_df['location'].str.contains(\"Austin\", case=False, na=False)]\n",
        "\n",
        "# Calculate the correlation between followers and public_repos\n",
        "correlation = austin_users['followers'].corr(austin_users['public_repos'])\n",
        "\n",
        "# Print the correlation rounded to 3 decimal places\n",
        "print(f\"Correlation between followers and public_repos for Austin users: {correlation:.3f}\")"
      ],
      "metadata": {
        "colab": {
          "base_uri": "https://localhost:8080/"
        },
        "id": "Uq-hq66rzgpp",
        "outputId": "32e2d16a-9de2-4510-c819-11abacade94f"
      },
      "execution_count": 14,
      "outputs": [
        {
          "output_type": "stream",
          "name": "stdout",
          "text": [
            "Correlation between followers and public_repos for Austin users: 0.150\n"
          ]
        }
      ]
    },
    {
      "cell_type": "markdown",
      "source": [
        "Q10. Does creating more repos help users get more followers? Using regression, estimate how many additional followers a user gets per additional public repository.\n",
        "Regression slope of followers on repos (to 3 decimal places, e.g. 0.123 or -0.123)"
      ],
      "metadata": {
        "id": "zPIO3JkcSCg1"
      }
    },
    {
      "cell_type": "code",
      "source": [
        "from sklearn.linear_model import LinearRegression\n",
        "\n",
        "# Load the users CSV file\n",
        "users_df = pd.read_csv(\"users.csv\")\n",
        "\n",
        "# Prepare the data for regression\n",
        "X = users_df[['public_repos']]  # Predictor variable (number of repositories)\n",
        "y = users_df['followers']        # Response variable (number of followers)\n",
        "\n",
        "# Initialize and fit the linear regression model\n",
        "model = LinearRegression()\n",
        "model.fit(X, y)\n",
        "\n",
        "# Get the slope (coefficient) of the regression line\n",
        "slope = model.coef_[0]\n",
        "\n",
        "# Print the slope rounded to 3 decimal places\n",
        "print(f\"Estimated followers gained per additional repository: {slope:.3f}\")\n"
      ],
      "metadata": {
        "colab": {
          "base_uri": "https://localhost:8080/"
        },
        "id": "bLmdG_sU0PD0",
        "outputId": "c5daa180-cbc2-4e60-c87a-cdb71992a4cf"
      },
      "execution_count": 15,
      "outputs": [
        {
          "output_type": "stream",
          "name": "stdout",
          "text": [
            "Estimated followers gained per additional repository: 4.090\n"
          ]
        }
      ]
    },
    {
      "cell_type": "markdown",
      "source": [
        "Q11. Do people typically enable projects and wikis together? What is the correlation between a repo having projects enabled and having wiki enabled?\n",
        "Correlation between projects and wiki enabled (to 3 decimal places, e.g. 0.123 or -0.123)"
      ],
      "metadata": {
        "id": "BlblFA3OSAjF"
      }
    },
    {
      "cell_type": "code",
      "source": [
        "import pandas as pd\n",
        "\n",
        "# Load the repositories CSV file\n",
        "repositories_df = pd.read_csv(\"repositories.csv\")\n",
        "\n",
        "# Calculate the correlation between has_projects and has_wiki\n",
        "correlation = repositories_df['has_projects'].corr(repositories_df['has_wiki'])\n",
        "\n",
        "# Print the correlation rounded to 3 decimal places\n",
        "print(f\"Correlation between projects enabled and wiki enabled: {correlation:.3f}\")\n"
      ],
      "metadata": {
        "colab": {
          "base_uri": "https://localhost:8080/"
        },
        "id": "9CPXDsqA0PA3",
        "outputId": "17f3778f-405b-4f6e-b637-f60e219f25a0"
      },
      "execution_count": 16,
      "outputs": [
        {
          "output_type": "stream",
          "name": "stdout",
          "text": [
            "Correlation between projects enabled and wiki enabled: 0.274\n"
          ]
        }
      ]
    },
    {
      "cell_type": "markdown",
      "source": [
        "Q12. Do hireable users follow more people than those who are not hireable?\n",
        "Average of following per user for hireable=true minus the average following for the rest (to 3 decimal places, e.g. 12.345 or -12.345)"
      ],
      "metadata": {
        "id": "tL84zNf-QqSl"
      }
    },
    {
      "cell_type": "code",
      "source": [
        "def analyze_following_difference(users_csv_path='users.csv'):\n",
        "    # Read the data\n",
        "    df = pd.read_csv(users_csv_path)\n",
        "\n",
        "    # Calculate average following for hireable users\n",
        "    hireable_following = df[df['hireable'] == True]['following'].mean()\n",
        "\n",
        "    # Calculate average following for non-hireable users\n",
        "    non_hireable_following = df[df['hireable'] != True]['following'].mean()\n",
        "\n",
        "    # Calculate the difference rounded to 3 decimal places\n",
        "    difference = round(hireable_following - non_hireable_following, 3)\n",
        "\n",
        "    # Print debug information\n",
        "    print(f\"Number of hireable users: {len(df[df['hireable'] == True])}\")\n",
        "    print(f\"Number of non-hireable users: {len(df[df['hireable'] != True])}\")\n",
        "    print(f\"Average following for hireable users: {hireable_following:.3f}\")\n",
        "    print(f\"Average following for non-hireable users: {non_hireable_following:.3f}\")\n",
        "\n",
        "    return difference\n",
        "\n",
        "# Calculate the difference\n",
        "result = analyze_following_difference()\n",
        "print(f\"\\nDifference in average following: {result:.3f}\")"
      ],
      "metadata": {
        "colab": {
          "base_uri": "https://localhost:8080/"
        },
        "id": "DCRrIySh0p7M",
        "outputId": "63d25e55-7a0c-45d0-c631-4743145c976b"
      },
      "execution_count": 17,
      "outputs": [
        {
          "output_type": "stream",
          "name": "stdout",
          "text": [
            "Number of hireable users: 100\n",
            "Number of non-hireable users: 371\n",
            "Average following for hireable users: 185.250\n",
            "Average following for non-hireable users: 75.197\n",
            "\n",
            "Difference in average following: 110.053\n"
          ]
        }
      ]
    },
    {
      "cell_type": "markdown",
      "source": [
        "Q13. Some developers write long bios. Does that help them get more followers? What's the impact of the length of their bio (in Unicode words, split by whitespace) with followers? (Ignore people without bios)\n",
        "Regression slope of followers on bio word count (to 3 decimal places, e.g. 12.345 or -12.345)"
      ],
      "metadata": {
        "id": "cQ3oeUaXRqw9"
      }
    },
    {
      "cell_type": "code",
      "source": [
        "from sklearn.linear_model import LinearRegression\n",
        "\n",
        "# Load the users CSV file\n",
        "users_df = pd.read_csv(\"users.csv\")\n",
        "\n",
        "# Filter out users without bios\n",
        "users_with_bios = users_df[users_df['bio'].notna()]\n",
        "\n",
        "# Calculate the length of each bio in words (Unicode words)\n",
        "users_with_bios['bio_word_count'] = users_with_bios['bio'].str.split().str.len()\n",
        "\n",
        "# Prepare the data for regression\n",
        "X = users_with_bios[['bio_word_count']]  # Predictor variable (length of bio in words)\n",
        "y = users_with_bios['followers']          # Response variable (number of followers)\n",
        "\n",
        "# Initialize and fit the linear regression model\n",
        "model = LinearRegression()\n",
        "model.fit(X, y)\n",
        "\n",
        "# Get the slope (coefficient) of the regression line\n",
        "slope = model.coef_[0]\n",
        "\n",
        "# Print the slope rounded to 3 decimal places\n",
        "print(f\"Impact of bio length on followers (slope): {slope:.3f}\")\n"
      ],
      "metadata": {
        "colab": {
          "base_uri": "https://localhost:8080/"
        },
        "id": "2hRnSccl0O7_",
        "outputId": "227ccf3d-e800-4e8a-9b35-6929fd2f4276"
      },
      "execution_count": 18,
      "outputs": [
        {
          "output_type": "stream",
          "name": "stdout",
          "text": [
            "Impact of bio length on followers (slope): 9.196\n"
          ]
        },
        {
          "output_type": "stream",
          "name": "stderr",
          "text": [
            "<ipython-input-18-07b720d2b570>:10: SettingWithCopyWarning: \n",
            "A value is trying to be set on a copy of a slice from a DataFrame.\n",
            "Try using .loc[row_indexer,col_indexer] = value instead\n",
            "\n",
            "See the caveats in the documentation: https://pandas.pydata.org/pandas-docs/stable/user_guide/indexing.html#returning-a-view-versus-a-copy\n",
            "  users_with_bios['bio_word_count'] = users_with_bios['bio'].str.split().str.len()\n"
          ]
        }
      ]
    },
    {
      "cell_type": "markdown",
      "source": [
        "Q14. Who created the most repositories on weekends (UTC)? List the top 5 users' login in order, comma-separated\n",
        "Users login"
      ],
      "metadata": {
        "id": "4eugx4R2RoEN"
      }
    },
    {
      "cell_type": "code",
      "source": [
        "# Convert the created_at column to datetime\n",
        "repositories_df['created_at'] = pd.to_datetime(repositories_df['created_at'])\n",
        "\n",
        "# Filter for weekend days (Saturday = 5, Sunday = 6)\n",
        "weekend_repos = repositories_df[repositories_df['created_at'].dt.dayofweek >= 5]\n",
        "\n",
        "# Count the number of repositories created by each user on weekends\n",
        "top_users = weekend_repos['login'].value_counts().nlargest(5)\n",
        "\n",
        "# Extract the top 5 user logins\n",
        "top_5_logins = top_users.index.tolist()\n",
        "\n",
        "# Print the top 5 users' logins as a comma-separated string\n",
        "print(\"Top 5 users who created the most repositories on weekends:\", \", \".join(top_5_logins))\n"
      ],
      "metadata": {
        "colab": {
          "base_uri": "https://localhost:8080/"
        },
        "id": "ojbUO0O20O-U",
        "outputId": "7fab073a-9458-45a3-ed3c-251822f6c92e"
      },
      "execution_count": 19,
      "outputs": [
        {
          "output_type": "stream",
          "name": "stdout",
          "text": [
            "Top 5 users who created the most repositories on weekends: FellowTraveler, realityexpander, OR13, PaulBratslavsky, skeptycal\n"
          ]
        }
      ]
    },
    {
      "cell_type": "markdown",
      "source": [
        "Q15. Do people who are hireable share their email addresses more often?\n",
        "[fraction of users with email when hireable=true] minus [fraction of users with email for the rest] (to 3 decimal places, e.g. 0.123 or -0.123)"
      ],
      "metadata": {
        "id": "r8qS4u5YQogw"
      }
    },
    {
      "cell_type": "code",
      "source": [
        "def analyze_email_sharing(users_csv_path='users.csv'):\n",
        "    # Read the complete CSV file\n",
        "    df = pd.read_csv(users_csv_path)\n",
        "\n",
        "    # Convert email column to boolean (True if email exists, False if NaN or empty)\n",
        "    df['has_email'] = df['email'].notna() & (df['email'] != '')\n",
        "\n",
        "    # Calculate for hireable users\n",
        "    hireable_mask = df['hireable'] == True\n",
        "    if hireable_mask.any():\n",
        "        hireable_email_fraction = df[hireable_mask]['has_email'].mean()\n",
        "    else:\n",
        "        hireable_email_fraction = 0\n",
        "\n",
        "    # Calculate for non-hireable users\n",
        "    non_hireable_mask = df['hireable'] != True\n",
        "    if non_hireable_mask.any():\n",
        "        non_hireable_email_fraction = df[non_hireable_mask]['has_email'].mean()\n",
        "    else:\n",
        "        non_hireable_email_fraction = 0\n",
        "\n",
        "    # Calculate difference and round to 3 decimal places\n",
        "    difference = round(hireable_email_fraction - non_hireable_email_fraction, 3)\n",
        "\n",
        "    # Print debug information\n",
        "    print(f\"Total users: {len(df)}\")\n",
        "    print(f\"Hireable users with email: {df[hireable_mask]['has_email'].sum()}/{hireable_mask.sum()}\")\n",
        "    print(f\"Non-hireable users with email: {df[non_hireable_mask]['has_email'].sum()}/{non_hireable_mask.sum()}\")\n",
        "    print(f\"Hireable fraction: {hireable_email_fraction:.3f}\")\n",
        "    print(f\"Non-hireable fraction: {non_hireable_email_fraction:.3f}\")\n",
        "\n",
        "    return difference\n",
        "\n",
        "# Read and analyze the complete dataset\n",
        "result = analyze_email_sharing()\n",
        "print(f\"\\nFinal result: {result:.3f}\")"
      ],
      "metadata": {
        "colab": {
          "base_uri": "https://localhost:8080/"
        },
        "id": "4zslNo-e0p4W",
        "outputId": "e6e487a3-5334-4eea-a08c-24f971178a65"
      },
      "execution_count": 20,
      "outputs": [
        {
          "output_type": "stream",
          "name": "stdout",
          "text": [
            "Total users: 471\n",
            "Hireable users with email: 52/100\n",
            "Non-hireable users with email: 182/371\n",
            "Hireable fraction: 0.520\n",
            "Non-hireable fraction: 0.491\n",
            "\n",
            "Final result: 0.029\n"
          ]
        }
      ]
    },
    {
      "cell_type": "markdown",
      "source": [
        "Q16. Let's assume that the last word in a user's name is their surname (ignore missing names, trim and split by whitespace.) What's the most common surname? (If there's a tie, list them all, comma-separated, alphabetically)\n",
        "Most common surname(s)"
      ],
      "metadata": {
        "id": "zjcCSQkORWA2"
      }
    },
    {
      "cell_type": "code",
      "source": [
        "from collections import Counter\n",
        "\n",
        "# Load the users CSV file\n",
        "users_df = pd.read_csv(\"users.csv\")\n",
        "\n",
        "# Filter out missing names and extract surnames\n",
        "users_df['surname'] = users_df['name'].str.strip().str.split().str[-1]\n",
        "\n",
        "# Count the occurrences of each surname, ignoring missing surnames\n",
        "surname_counts = Counter(users_df['surname'].dropna())\n",
        "\n",
        "# Find the maximum occurrence count\n",
        "max_count = max(surname_counts.values())\n",
        "\n",
        "# Get all surnames with the maximum occurrence count\n",
        "most_common_surnames = [surname for surname, count in surname_counts.items() if count == max_count]\n",
        "\n",
        "# Sort surnames alphabetically\n",
        "most_common_surnames.sort()\n",
        "\n",
        "# Print the result as a comma-separated string\n",
        "print(\"Most common surnames:\", \", \".join(most_common_surnames))\n"
      ],
      "metadata": {
        "colab": {
          "base_uri": "https://localhost:8080/"
        },
        "id": "VSJXys7P0p91",
        "outputId": "d730057b-0788-4006-dd74-7685c013d1bc"
      },
      "execution_count": 21,
      "outputs": [
        {
          "output_type": "stream",
          "name": "stdout",
          "text": [
            "Most common surnames: Moore, Smith\n"
          ]
        }
      ]
    }
  ]
}